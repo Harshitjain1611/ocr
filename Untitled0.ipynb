{
  "nbformat": 4,
  "nbformat_minor": 0,
  "metadata": {
    "colab": {
      "provenance": [],
      "authorship_tag": "ABX9TyMhiePhZtjgm+b9UIhcuQiV",
      "include_colab_link": true
    },
    "kernelspec": {
      "name": "python3",
      "display_name": "Python 3"
    },
    "language_info": {
      "name": "python"
    }
  },
  "cells": [
    {
      "cell_type": "markdown",
      "metadata": {
        "id": "view-in-github",
        "colab_type": "text"
      },
      "source": [
        "<a href=\"https://colab.research.google.com/github/Harshitjain1611/project/blob/main/Untitled0.ipynb\" target=\"_parent\"><img src=\"https://colab.research.google.com/assets/colab-badge.svg\" alt=\"Open In Colab\"/></a>"
      ]
    },
    {
      "cell_type": "code",
      "execution_count": 4,
      "metadata": {
        "colab": {
          "base_uri": "https://localhost:8080/"
        },
        "id": "nFUEWa4vjW2n",
        "outputId": "69f71441-87ed-4749-b0da-685fe493cd69"
      },
      "outputs": [
        {
          "output_type": "stream",
          "name": "stdout",
          "text": [
            "Epoch 1/10\n",
            "1875/1875 [==============================] - 45s 24ms/step - loss: 0.1420 - accuracy: 0.9569\n",
            "Epoch 2/10\n",
            "1875/1875 [==============================] - 45s 24ms/step - loss: 0.0474 - accuracy: 0.9854\n",
            "Epoch 3/10\n",
            "1875/1875 [==============================] - 44s 23ms/step - loss: 0.0306 - accuracy: 0.9901\n",
            "Epoch 4/10\n",
            "1875/1875 [==============================] - 44s 24ms/step - loss: 0.0217 - accuracy: 0.9929\n",
            "Epoch 5/10\n",
            "1875/1875 [==============================] - 44s 23ms/step - loss: 0.0156 - accuracy: 0.9949\n",
            "Epoch 6/10\n",
            "1875/1875 [==============================] - 44s 24ms/step - loss: 0.0105 - accuracy: 0.9967\n",
            "Epoch 7/10\n",
            "1875/1875 [==============================] - 45s 24ms/step - loss: 0.0102 - accuracy: 0.9966\n",
            "Epoch 8/10\n",
            "1875/1875 [==============================] - 44s 23ms/step - loss: 0.0086 - accuracy: 0.9971\n",
            "Epoch 9/10\n",
            "1875/1875 [==============================] - 44s 24ms/step - loss: 0.0080 - accuracy: 0.9975\n",
            "Epoch 10/10\n",
            "1875/1875 [==============================] - 45s 24ms/step - loss: 0.0056 - accuracy: 0.9983\n",
            "313/313 [==============================] - 3s 8ms/step - loss: 0.0594 - accuracy: 0.9870\n"
          ]
        },
        {
          "output_type": "execute_result",
          "data": {
            "text/plain": [
              "[0.05942942574620247, 0.9869999885559082]"
            ]
          },
          "metadata": {},
          "execution_count": 4
        }
      ],
      "source": [
        "import tensorflow as tf\n",
        "\n",
        "from tensorflow.keras.models import Sequential\n",
        "from tensorflow.keras.layers import Flatten, Dense, Conv2D, MaxPooling2D\n",
        "mnist = tf.keras.datasets.mnist\n",
        "(train_images, train_labels),(test_images, test_labels) = mnist.load_data()\n",
        "\n",
        "# Reshape the data\n",
        "train_images = train_images.reshape(60000, 28, 28, 1)\n",
        "test_images = test_images.reshape(10000, 28, 28, 1)\n",
        "\n",
        "# Normalize the data\n",
        "train_images = train_images / 255.0\n",
        "test_images = test_images / 255.0\n",
        "model = Sequential()\n",
        "model.add(Conv2D(32, (3, 3), activation='relu', input_shape=(28, 28, 1)))\n",
        "model.add(MaxPooling2D(2, 2))\n",
        "model.add(Flatten())\n",
        "model.add(Dense(128, activation='relu'))\n",
        "model.add(Dense(256, activation='relu'))\n",
        "model.add(Dense(10, activation='softmax'))\n",
        "model.compile(optimizer='adam',\n",
        "              loss='sparse_categorical_crossentropy',\n",
        "              metrics=['accuracy'])\n",
        "\n"
      ]
    },
    {
      "cell_type": "code",
      "source": [
        "history = model.fit(train_images, train_labels, epochs=30)\n",
        "model.evaluate(test_images, test_labels)"
      ],
      "metadata": {
        "colab": {
          "base_uri": "https://localhost:8080/"
        },
        "id": "j5ePhbyUxAuT",
        "outputId": "87e97e72-e597-43a2-cc6a-594dc3e4eea0"
      },
      "execution_count": 7,
      "outputs": [
        {
          "output_type": "stream",
          "name": "stdout",
          "text": [
            "Epoch 1/30\n",
            "1875/1875 [==============================] - 44s 23ms/step - loss: 0.0056 - accuracy: 0.9983\n",
            "Epoch 2/30\n",
            "1875/1875 [==============================] - 44s 24ms/step - loss: 0.0063 - accuracy: 0.9979\n",
            "Epoch 3/30\n",
            "1875/1875 [==============================] - 44s 24ms/step - loss: 0.0045 - accuracy: 0.9984\n",
            "Epoch 4/30\n",
            "1875/1875 [==============================] - 45s 24ms/step - loss: 0.0050 - accuracy: 0.9984\n",
            "Epoch 5/30\n",
            "1875/1875 [==============================] - 45s 24ms/step - loss: 0.0037 - accuracy: 0.9988\n",
            "Epoch 6/30\n",
            "1875/1875 [==============================] - 44s 24ms/step - loss: 0.0056 - accuracy: 0.9984\n",
            "Epoch 7/30\n",
            "1875/1875 [==============================] - 44s 24ms/step - loss: 0.0036 - accuracy: 0.9990\n",
            "Epoch 8/30\n",
            "1875/1875 [==============================] - 44s 23ms/step - loss: 0.0031 - accuracy: 0.9990\n",
            "Epoch 9/30\n",
            "1875/1875 [==============================] - 44s 24ms/step - loss: 0.0040 - accuracy: 0.9988\n",
            "Epoch 10/30\n",
            "1875/1875 [==============================] - 44s 23ms/step - loss: 0.0036 - accuracy: 0.9990\n",
            "Epoch 11/30\n",
            "1875/1875 [==============================] - 44s 23ms/step - loss: 0.0050 - accuracy: 0.9987\n",
            "Epoch 12/30\n",
            "1875/1875 [==============================] - 44s 23ms/step - loss: 0.0041 - accuracy: 0.9989\n",
            "Epoch 13/30\n",
            "1875/1875 [==============================] - 44s 24ms/step - loss: 0.0019 - accuracy: 0.9995\n",
            "Epoch 14/30\n",
            "1875/1875 [==============================] - 44s 24ms/step - loss: 0.0041 - accuracy: 0.9989\n",
            "Epoch 15/30\n",
            "1875/1875 [==============================] - 44s 23ms/step - loss: 0.0029 - accuracy: 0.9991\n",
            "Epoch 16/30\n",
            "1875/1875 [==============================] - 44s 23ms/step - loss: 0.0028 - accuracy: 0.9992\n",
            "Epoch 17/30\n",
            "1875/1875 [==============================] - 43s 23ms/step - loss: 4.2630e-04 - accuracy: 0.9999\n",
            "Epoch 18/30\n",
            "1875/1875 [==============================] - 44s 23ms/step - loss: 0.0051 - accuracy: 0.9987\n",
            "Epoch 19/30\n",
            "1875/1875 [==============================] - 44s 23ms/step - loss: 0.0021 - accuracy: 0.9994\n",
            "Epoch 20/30\n",
            "1875/1875 [==============================] - 44s 24ms/step - loss: 0.0032 - accuracy: 0.9992\n",
            "Epoch 21/30\n",
            "1875/1875 [==============================] - 44s 23ms/step - loss: 0.0019 - accuracy: 0.9995\n",
            "Epoch 22/30\n",
            "1875/1875 [==============================] - 44s 23ms/step - loss: 0.0033 - accuracy: 0.9989\n",
            "Epoch 23/30\n",
            "1875/1875 [==============================] - 43s 23ms/step - loss: 0.0015 - accuracy: 0.9996\n",
            "Epoch 24/30\n",
            "1875/1875 [==============================] - 43s 23ms/step - loss: 0.0043 - accuracy: 0.9992\n",
            "Epoch 25/30\n",
            "1875/1875 [==============================] - 43s 23ms/step - loss: 0.0039 - accuracy: 0.9991\n",
            "Epoch 26/30\n",
            "1875/1875 [==============================] - 43s 23ms/step - loss: 0.0022 - accuracy: 0.9994\n",
            "Epoch 27/30\n",
            "1875/1875 [==============================] - 43s 23ms/step - loss: 0.0030 - accuracy: 0.9991\n",
            "Epoch 28/30\n",
            "1875/1875 [==============================] - 43s 23ms/step - loss: 0.0032 - accuracy: 0.9992\n",
            "Epoch 29/30\n",
            "1875/1875 [==============================] - 43s 23ms/step - loss: 4.0908e-04 - accuracy: 0.9999\n",
            "Epoch 30/30\n",
            "1875/1875 [==============================] - 43s 23ms/step - loss: 0.0029 - accuracy: 0.9994\n",
            "313/313 [==============================] - 3s 8ms/step - loss: 0.1333 - accuracy: 0.9874\n"
          ]
        },
        {
          "output_type": "execute_result",
          "data": {
            "text/plain": [
              "[0.13326478004455566, 0.9873999953269958]"
            ]
          },
          "metadata": {},
          "execution_count": 7
        }
      ]
    },
    {
      "cell_type": "code",
      "source": [
        "import matplotlib.pyplot as plt\n",
        "x=history.epoch\n",
        "y=history.history[\"accuracy\"]\n",
        "plt.plot(x,y)\n",
        "plt.show()"
      ],
      "metadata": {
        "colab": {
          "base_uri": "https://localhost:8080/",
          "height": 265
        },
        "id": "y9dFFub1xKL1",
        "outputId": "4be7811b-cb56-40d3-9616-76c2ffcd54a3"
      },
      "execution_count": 8,
      "outputs": [
        {
          "output_type": "display_data",
          "data": {
            "text/plain": [
              "<Figure size 432x288 with 1 Axes>"
            ],
            "image/png": "[encoded data removed]"
          },
          "metadata": {
            "needs_background": "light"
          }
        }
      ]
    },
    {
      "cell_type": "code",
      "source": [
        "model.save(\"model1.h5\")"
      ],
      "metadata": {
        "id": "6U9lh06lmMWO"
      },
      "execution_count": 9,
      "outputs": []
    }
  ]
}